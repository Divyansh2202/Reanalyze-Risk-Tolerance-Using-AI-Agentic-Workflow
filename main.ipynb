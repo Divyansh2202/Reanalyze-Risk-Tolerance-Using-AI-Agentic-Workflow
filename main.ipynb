{
 "cells": [
  {
   "cell_type": "code",
   "execution_count": 1,
   "metadata": {},
   "outputs": [
    {
     "name": "stdout",
     "output_type": "stream",
     "text": [
      "{'demographics': {'age': {'$numberInt': '25'}, 'gender': 'Male', 'marital': 'Un-married', 'occupation': 'Software Engineer', 'industry': 'IT'}, 'financial_info': {'income': {'$numberInt': '1000000'}, 'investments': ['Real-estate'], 'debt': {'$numberInt': '100000'}, 'insurance': {'$numberInt': '50000'}, 'tax_category': '5 - 15 lakhs'}, 'retirement_plans': {'retirementAge': {'$numberInt': '35'}, 'lifeStyle': ['Buy a new house']}, 'financial_goals': {'timeDuration': {'$numberInt': '10'}, 'investmentGoals': ['Buy a new house']}, 'portfolio_preferences': {'preference': ['Balance long term returns and short term losses']}, 'risk_tolerance': {'tolerance': '56', 'toleranceCategory': 'Moderately High'}, 'portfolio_structure': {'debt': [], 'equity': ['Diversified Equity Funds (Large Cap, Mid Cap, Small Cap, Flexi Cap, Multi Cap)'], 'hybrid': []}}\n"
     ]
    }
   ],
   "source": [
    "from langchain import OpenAI\n",
    "import json\n",
    "\n",
    "# Load user data from JSON\n",
    "with open('userForm.json', 'r') as file:\n",
    "    user_data = json.load(file)\n",
    "\n",
    "# Print extracted information\n",
    "def read_user_data(user_data):\n",
    "    demographics = user_data['userDetails']['demographicInformation']['data']\n",
    "    financial_info = user_data['userDetails']['financialInformation']['data']\n",
    "    retirement_plans = user_data['userDetails']['retirementPlans']['data']\n",
    "    financial_goals = user_data['userDetails']['financialGoals']['data']\n",
    "    portfolio_preferences = user_data['portfolioType']['preferences']['data']\n",
    "    risk_tolerance = user_data['riskTolerance']['tolerance']['data']\n",
    "    portfolio_structure = user_data['portfolioStructure']['mutualFunds']['data']\n",
    "    \n",
    "    return {\n",
    "        \"demographics\": demographics,\n",
    "        \"financial_info\": financial_info,\n",
    "        \"retirement_plans\": retirement_plans,\n",
    "        \"financial_goals\": financial_goals,\n",
    "        \"portfolio_preferences\": portfolio_preferences,\n",
    "        \"risk_tolerance\": risk_tolerance,\n",
    "        \"portfolio_structure\": portfolio_structure\n",
    "    }\n",
    "\n",
    "# Call the function to extract data\n",
    "user_info = read_user_data(user_data)\n",
    "print(user_info)\n"
   ]
  },
  {
   "cell_type": "markdown",
   "metadata": {},
   "source": [
    "## Step 2: Creating Reanalysis Agents\n",
    "## We will create three agents, each handling different aspects of the analysis:\n",
    "## Agent 1: Income and Investment Analysis"
   ]
  },
  {
   "cell_type": "code",
   "execution_count": null,
   "metadata": {},
   "outputs": [],
   "source": [
    "from langchain.prompts import PromptTemplate\n",
    "from langchain.chains import LLMChain\n",
    "\n",
    "# Initialize OpenAI agent (you can use any LLM here)\n",
    "llm = OpenAI(temperature=0.9)\n",
    "\n",
    "# Define a template for the income and investment analysis\n",
    "income_investment_template = \"\"\"\n",
    "Given the following financial data:\n",
    "- Income: {income}\n",
    "- Investments: {investments}\n",
    "- Debt: {debt}\n",
    "\n",
    "Reassess the risk tolerance level based on these factors.\n",
    "\"\"\"\n",
    "\n",
    "# Create a prompt template\n",
    "income_investment_prompt = PromptTemplate(\n",
    "    template=income_investment_template,\n",
    "    input_variables=[\"income\", \"investments\", \"debt\"]\n",
    ")\n",
    "\n",
    "# Create a chain\n",
    "income_investment_chain = LLMChain(\n",
    "    llm=llm,\n",
    "    prompt=income_investment_prompt\n",
    ")\n",
    "\n",
    "# Run the chain\n",
    "income_analysis = income_investment_chain.run({\n",
    "    \"income\": user_info['financial_info']['income']['$numberInt'],\n",
    "    \"investments\": user_info['financial_info']['investments'],\n",
    "    \"debt\": user_info['financial_info']['debt']['$numberInt']\n",
    "})\n",
    "\n",
    "print(income_analysis)\n"
   ]
  },
  {
   "cell_type": "markdown",
   "metadata": {},
   "source": [
    "## Agent 2: Financial Goals and Preferences"
   ]
  },
  {
   "cell_type": "code",
   "execution_count": null,
   "metadata": {},
   "outputs": [],
   "source": [
    "financial_goals_template = \"\"\"\n",
    "Given the following financial goals:\n",
    "- Goals: {investment_goals}\n",
    "- Time Duration: {time_duration}\n",
    "\n",
    "Reanalyze and suggest if the risk tolerance should be adjusted based on these goals.\n",
    "\"\"\"\n",
    "\n",
    "# Create a prompt template\n",
    "financial_goals_prompt = PromptTemplate(\n",
    "    template=financial_goals_template,\n",
    "    input_variables=[\"investment_goals\", \"time_duration\"]\n",
    ")\n",
    "\n",
    "# Create a chain\n",
    "financial_goals_chain = LLMChain(\n",
    "    llm=llm,\n",
    "    prompt=financial_goals_prompt\n",
    ")\n",
    "\n",
    "# Run the chain\n",
    "goals_analysis = financial_goals_chain.run({\n",
    "    \"investment_goals\": user_info['financial_goals']['investmentGoals'],\n",
    "    \"time_duration\": user_info['financial_goals']['timeDuration']['$numberInt']\n",
    "})\n",
    "\n",
    "print(goals_analysis)\n"
   ]
  },
  {
   "cell_type": "markdown",
   "metadata": {},
   "source": [
    "## Agent 3: Risk Tolerance Reanalysis"
   ]
  },
  {
   "cell_type": "code",
   "execution_count": null,
   "metadata": {},
   "outputs": [],
   "source": [
    "risk_tolerance_template = \"\"\"\n",
    "Based on the current risk tolerance level of {tolerance} and the target value of {target_value}, \n",
    "reassess if any adjustments are needed.\n",
    "\"\"\"\n",
    "\n",
    "# Create a prompt template\n",
    "risk_tolerance_prompt = PromptTemplate(\n",
    "    template=risk_tolerance_template,\n",
    "    input_variables=[\"tolerance\", \"target_value\"]\n",
    ")\n",
    "\n",
    "# Create a chain\n",
    "risk_tolerance_chain = LLMChain(\n",
    "    llm=llm,\n",
    "    prompt=risk_tolerance_prompt\n",
    ")\n",
    "\n",
    "# Run the chain\n",
    "risk_analysis = risk_tolerance_chain.run({\n",
    "    \"tolerance\": user_info['risk_tolerance']['tolerance'],\n",
    "    \"target_value\": user_data['riskTolerance']['parameters']['data']['targetValue']['$numberInt']\n",
    "})\n",
    "\n",
    "print(risk_analysis)\n"
   ]
  },
  {
   "cell_type": "markdown",
   "metadata": {},
   "source": [
    "## Step 3: Compile and Write the New JSON File"
   ]
  },
  {
   "cell_type": "code",
   "execution_count": null,
   "metadata": {},
   "outputs": [],
   "source": [
    "# Collect all analyses and compile results into a dictionary\n",
    "updated_risk_analysis = {\n",
    "    \"income_investment_analysis\": income_analysis,\n",
    "    \"financial_goals_analysis\": goals_analysis,\n",
    "    \"risk_tolerance_analysis\": risk_analysis\n",
    "}\n",
    "\n",
    "# Write the updated data to a new JSON file\n",
    "with open('updated_userForm.json', 'w') as outfile:\n",
    "    json.dump(updated_risk_analysis, outfile, indent=4)\n",
    "\n",
    "print(\"New risk tolerance values written to updated_userForm.json\")\n"
   ]
  }
 ],
 "metadata": {
  "kernelspec": {
   "display_name": "base",
   "language": "python",
   "name": "python3"
  },
  "language_info": {
   "codemirror_mode": {
    "name": "ipython",
    "version": 3
   },
   "file_extension": ".py",
   "mimetype": "text/x-python",
   "name": "python",
   "nbconvert_exporter": "python",
   "pygments_lexer": "ipython3",
   "version": "3.11.5"
  }
 },
 "nbformat": 4,
 "nbformat_minor": 2
}
